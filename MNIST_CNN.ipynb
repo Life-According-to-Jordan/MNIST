{
 "cells": [
  {
   "cell_type": "code",
   "execution_count": 136,
   "metadata": {},
   "outputs": [],
   "source": [
    "#load packages\n",
    "from __future__ import print_function\n",
    "\n",
    "import tensorflow as tf\n",
    "import pandas\n",
    "import sklearn\n",
    "from sklearn import preprocessing\n",
    "import keras\n",
    "from keras.models import Sequential\n",
    "from keras.layers import Activation, Dropout, Flatten, Dense \n",
    "from keras.layers import Conv2D, MaxPooling2D, ZeroPadding2D\n",
    "from keras.optimizers import RMSprop"
   ]
  },
  {
   "cell_type": "code",
   "execution_count": 137,
   "metadata": {
    "collapsed": true
   },
   "outputs": [],
   "source": [
    "#load data \n",
    "train = pd.read_csv(\"mnist_train.csv\").values\n",
    "test  = pd.read_csv(\"mnist_test.csv\").values"
   ]
  },
  {
   "cell_type": "code",
   "execution_count": 138,
   "metadata": {},
   "outputs": [],
   "source": [
    "# Reshape and normalize training data\n",
    "x_train = train[:, 1:].reshape(train.shape[0],28,28,1).astype( 'float32' )\n",
    "\n",
    "X_train = x_train / 255.0\n",
    "\n",
    "y_train = train[:,0]\n",
    "\n",
    "# Reshape and normalize test data\n",
    "x_test = test[:,1:].reshape(test.shape[0],28,28,1).astype( 'float32' )\n",
    "\n",
    "X_test = x_test / 255.0\n",
    "\n",
    "y_test = test[:,0]"
   ]
  },
  {
   "cell_type": "code",
   "execution_count": 139,
   "metadata": {
    "collapsed": true
   },
   "outputs": [],
   "source": [
    "y_train = y_train.reshape((-1, 1))\n",
    "y_test = y_test.reshape((-1, 1))"
   ]
  },
  {
   "cell_type": "code",
   "execution_count": 140,
   "metadata": {},
   "outputs": [
    {
     "name": "stdout",
     "output_type": "stream",
     "text": [
      "59999 train samples\n",
      "9999 test samples\n"
     ]
    }
   ],
   "source": [
    "print(x_train.shape[0], 'train samples')\n",
    "print(x_test.shape[0], 'test samples')"
   ]
  },
  {
   "cell_type": "code",
   "execution_count": 141,
   "metadata": {
    "collapsed": true
   },
   "outputs": [],
   "source": [
    "batch_size = 128\n",
    "num_classes = 10\n",
    "epochs = 30"
   ]
  },
  {
   "cell_type": "code",
   "execution_count": 142,
   "metadata": {},
   "outputs": [],
   "source": [
    "#convolutional neural net model\n",
    "\n",
    "#layer 1\n",
    "model = Sequential()\n",
    "model.add(Conv2D(32, (3, 3), input_shape=(28, 28, 1)))\n",
    "model.add(Activation('relu'))\n",
    "model.add(MaxPooling2D(pool_size=(2, 2)))\n",
    "\n",
    "#layer 2\n",
    "model.add(Conv2D(32, (3, 3)))\n",
    "model.add(Activation('relu'))\n",
    "model.add(MaxPooling2D(pool_size=(2, 2)))\n",
    "\n",
    "#layer 3\n",
    "model.add(Conv2D(64, (3, 3)))\n",
    "model.add(Activation('relu'))\n",
    "model.add(MaxPooling2D(pool_size=(2, 2)))\n",
    "\n",
    "#paramters\n",
    "model.add(Flatten())\n",
    "model.add(Dense(64))\n",
    "model.add(Activation('relu'))\n",
    "model.add(Dropout(0.5))\n",
    "model.add(Dense(1))\n",
    "model.add(Activation('sigmoid'))"
   ]
  },
  {
   "cell_type": "code",
   "execution_count": 143,
   "metadata": {
    "collapsed": true
   },
   "outputs": [],
   "source": [
    "#compile model\n",
    "model.compile(loss='binary_crossentropy',\n",
    "              optimizer='rmsprop',\n",
    "              metrics=['accuracy'])"
   ]
  },
  {
   "cell_type": "code",
   "execution_count": null,
   "metadata": {
    "collapsed": true
   },
   "outputs": [],
   "source": []
  },
  {
   "cell_type": "code",
   "execution_count": 144,
   "metadata": {},
   "outputs": [
    {
     "name": "stdout",
     "output_type": "stream",
     "text": [
      "Epoch 1/30\n",
      "59999/59999 [==============================] - 31s 518us/step - loss: -54.8628 - acc: 0.1124\n",
      "Epoch 2/30\n",
      "59999/59999 [==============================] - 30s 506us/step - loss: -55.0638 - acc: 0.1124\n",
      "Epoch 3/30\n",
      "59999/59999 [==============================] - 28s 470us/step - loss: -55.0634 - acc: 0.1124\n",
      "Epoch 4/30\n",
      "59999/59999 [==============================] - 29s 482us/step - loss: -55.0638 - acc: 0.11241s - loss\n",
      "Epoch 5/30\n",
      "59999/59999 [==============================] - 29s 479us/step - loss: -55.0638 - acc: 0.1124\n",
      "Epoch 6/30\n",
      "59999/59999 [==============================] - 28s 468us/step - loss: -55.0638 - acc: 0.1124\n",
      "Epoch 7/30\n",
      "59999/59999 [==============================] - 28s 461us/step - loss: -55.0638 - acc: 0.1124\n",
      "Epoch 8/30\n",
      "59999/59999 [==============================] - 27s 455us/step - loss: -55.0638 - acc: 0.1124\n",
      "Epoch 9/30\n",
      "59999/59999 [==============================] - 27s 442us/step - loss: -55.0638 - acc: 0.1124\n",
      "Epoch 10/30\n",
      "59999/59999 [==============================] - 26s 439us/step - loss: -55.0638 - acc: 0.1124\n",
      "Epoch 11/30\n",
      "59999/59999 [==============================] - 26s 440us/step - loss: -55.0638 - acc: 0.1124\n",
      "Epoch 12/30\n",
      "59999/59999 [==============================] - 27s 443us/step - loss: -55.0635 - acc: 0.1124\n",
      "Epoch 13/30\n",
      "59999/59999 [==============================] - 27s 442us/step - loss: -55.0638 - acc: 0.1124\n",
      "Epoch 14/30\n",
      "59999/59999 [==============================] - 27s 445us/step - loss: -55.0638 - acc: 0.1124\n",
      "Epoch 15/30\n",
      "59999/59999 [==============================] - 31s 524us/step - loss: -55.0610 - acc: 0.1124\n",
      "Epoch 16/30\n",
      "59999/59999 [==============================] - 32s 528us/step - loss: -55.0638 - acc: 0.1124\n",
      "Epoch 17/30\n",
      "59999/59999 [==============================] - 31s 518us/step - loss: -55.0638 - acc: 0.1124\n",
      "Epoch 18/30\n",
      "59999/59999 [==============================] - 26s 436us/step - loss: -55.0638 - acc: 0.1124\n",
      "Epoch 19/30\n",
      "59999/59999 [==============================] - 26s 438us/step - loss: -55.0638 - acc: 0.1124\n",
      "Epoch 20/30\n",
      "59999/59999 [==============================] - 27s 444us/step - loss: -55.0638 - acc: 0.1124\n",
      "Epoch 21/30\n",
      "59999/59999 [==============================] - 27s 457us/step - loss: -55.0636 - acc: 0.1124\n",
      "Epoch 22/30\n",
      "59999/59999 [==============================] - 28s 460us/step - loss: -55.0638 - acc: 0.1124\n",
      "Epoch 23/30\n",
      "59999/59999 [==============================] - 27s 448us/step - loss: -55.0638 - acc: 0.1124\n",
      "Epoch 24/30\n",
      "59999/59999 [==============================] - 28s 466us/step - loss: -55.0638 - acc: 0.1124\n",
      "Epoch 25/30\n",
      "59999/59999 [==============================] - 27s 458us/step - loss: -55.0638 - acc: 0.1124\n",
      "Epoch 26/30\n",
      "59999/59999 [==============================] - 29s 480us/step - loss: -55.0638 - acc: 0.1124\n",
      "Epoch 27/30\n",
      "59999/59999 [==============================] - 36s 595us/step - loss: -55.0638 - acc: 0.1124\n",
      "Epoch 28/30\n",
      "59999/59999 [==============================] - 31s 510us/step - loss: -55.0638 - acc: 0.1124\n",
      "Epoch 29/30\n",
      "59999/59999 [==============================] - 29s 476us/step - loss: -55.0638 - acc: 0.1124\n",
      "Epoch 30/30\n",
      "59999/59999 [==============================] - 29s 483us/step - loss: -55.0638 - acc: 0.1124\n"
     ]
    },
    {
     "data": {
      "text/plain": [
       "<keras.callbacks.History at 0x12beafd30>"
      ]
     },
     "execution_count": 144,
     "metadata": {},
     "output_type": "execute_result"
    }
   ],
   "source": [
    "model.fit(x_train, y_train,\n",
    "          epochs = epochs,\n",
    "          batch_size = batch_size)"
   ]
  },
  {
   "cell_type": "code",
   "execution_count": 149,
   "metadata": {},
   "outputs": [
    {
     "name": "stdout",
     "output_type": "stream",
     "text": [
      "9999/9999 [==============================] - 2s 159us/step\n"
     ]
    }
   ],
   "source": [
    "score = model.evaluate(X_test, y_test, batch_size=batch_size)"
   ]
  },
  {
   "cell_type": "code",
   "execution_count": 150,
   "metadata": {},
   "outputs": [],
   "source": [
    "score = model.evaluate(x_test, y_test, verbose=0)"
   ]
  },
  {
   "cell_type": "code",
   "execution_count": 151,
   "metadata": {},
   "outputs": [
    {
     "name": "stdout",
     "output_type": "stream",
     "text": [
      "Test loss: -54.8919342686527\n"
     ]
    }
   ],
   "source": [
    "print('Test loss:', score[0])\n"
   ]
  },
  {
   "cell_type": "code",
   "execution_count": 152,
   "metadata": {},
   "outputs": [
    {
     "name": "stdout",
     "output_type": "stream",
     "text": [
      "Test accuracy: 0.11351135114032944\n"
     ]
    }
   ],
   "source": [
    "print('Test accuracy:', score[1])"
   ]
  }
 ],
 "metadata": {
  "kernelspec": {
   "display_name": "SP_chatbot",
   "language": "python",
   "name": "sp_chatbot"
  },
  "language_info": {
   "codemirror_mode": {
    "name": "ipython",
    "version": 3
   },
   "file_extension": ".py",
   "mimetype": "text/x-python",
   "name": "python",
   "nbconvert_exporter": "python",
   "pygments_lexer": "ipython3",
   "version": "3.6.4"
  }
 },
 "nbformat": 4,
 "nbformat_minor": 2
}
